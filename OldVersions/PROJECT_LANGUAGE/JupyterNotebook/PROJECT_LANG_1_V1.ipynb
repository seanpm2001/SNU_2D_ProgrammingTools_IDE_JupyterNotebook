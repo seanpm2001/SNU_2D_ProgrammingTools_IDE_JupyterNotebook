"cells"[{"cell_type":"markdown","source":"# Project language file 1","metadata":{
"cells":[{"cell_type":"markdown","source":"## For: SNU/2D/ProgrammingTools/IDE/JupyterNotebook","metadata":{
"cells":[{"cell_type":"markdown","source":"#### About:","metadata":{
"cells":[{"cell_type":"markdown","source":"I decided to make JupyterNotebook the main project language file for this project (SNU / 2D / Programming Tools / IDE / JupyterNotebook) as this is a JupyterNotebook IDE, and it needs its main language to be represented here..","metadata":{ }}
{"comments" "File info"}
{"The syntax is likely off, I wrote this by hand, and have no way of testing it. I am going to attempt to make valid JSON and see if it works"}
{"File info"}
{"File type: Jupyter Notebook source file (*.ipynb)"}
{"File version: 1 (2022, Thursday, October 6th at 8:42 pm PST)"}
{"Line count (including blank lines and compiler line): 11"}
